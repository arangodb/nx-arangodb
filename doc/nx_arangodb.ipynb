{
  "cells": [
    {
      "cell_type": "markdown",
      "metadata": {
        "id": "wqxz9xg912bF"
      },
      "source": [
        "## nx-arangodb\n",
        "\n",
        "<a href=\"https://colab.research.google.com/github/arangodb/nx-arangodb/blob/main/docs/nx_arangodb.ipynb\" target=\"_parent\"><img src=\"https://colab.research.google.com/assets/colab-badge.svg\" alt=\"Open In Colab\"/></a>\n",
        "\n",
        "\n",
        "<div style=\"display: flex; align-items: center; gap: 10px;\">\n",
        "    <img src=\"https://avatars.githubusercontent.com/u/388785?s=200&v=4\" alt=\"NetworkX\" height=60px>\n",
        "    <img src=\"https://arangodb.com/wp-content/uploads/2016/05/ArangoDB_logo_avocado_@1.png\" alt=\"ArangoDB\" height=60px>\n",
        "    <img src=\"https://rapids.ai/images/RAPIDS-logo.png\" alt=\"RAPIDS\" height=60px>\n",
        "    <img src=\"https://insights.virti.com/content/images/2021/09/20181218-Nvidia-Inception.png\" alt=\"NVIDIA\" height=60px>\n",
        "</div>\n",
        "\n",
        "This is a [backend to NetworkX](https://networkx.org/documentation/stable/reference/backends.html) that offers [ArangoDB](https://github.com/arangodb/arangodb) as a [Persistence Layer to NetworkX Graphs](https://arangodb.com/introducing-the-arangodb-networkx-persistence-layer/).\n",
        "\n",
        "Additional Documentation:\n",
        "- [NetworkX](https://networkx.org/documentation/stable/)\n",
        "- [ArangoDB](https://docs.arangodb.com/stable/)\n",
        "- [nx-cugraph](https://docs.rapids.ai/api/cugraph/nightly/nx_cugraph/nx_cugraph/)"
      ]
    },
    {
      "cell_type": "markdown",
      "metadata": {
        "id": "L4nmLCFf3HoC"
      },
      "source": [
        "## Package Installation"
      ]
    },
    {
      "cell_type": "code",
      "execution_count": null,
      "metadata": {
        "id": "pV0dx8Ny1q64"
      },
      "outputs": [],
      "source": [
        "%%capture\n",
        "!pip install nx-arangodb"
      ]
    },
    {
      "cell_type": "markdown",
      "metadata": {
        "id": "hoyxgmOz3CwF"
      },
      "source": [
        "##### Optional: `nx-cugraph`\n",
        "\n",
        "❗Note that using GPU-accelerated algorithms requires **changing the runtime**❗\n",
        "\n",
        "`Runtime` --> `Change runtime type` --> `Hardware Accelerator`"
      ]
    },
    {
      "cell_type": "code",
      "execution_count": null,
      "metadata": {
        "id": "yoaY4NIo2d1b"
      },
      "outputs": [],
      "source": [
        "!nvidia-smi\n",
        "!nvcc --version"
      ]
    },
    {
      "cell_type": "code",
      "execution_count": null,
      "metadata": {
        "id": "UNOstqJt27xH"
      },
      "outputs": [],
      "source": [
        "%%capture\n",
        "!pip install nx-cugraph-cu12 --extra-index-url https://pypi.nvidia.com # Requires CUDA-capable GPU"
      ]
    },
    {
      "cell_type": "markdown",
      "metadata": {
        "id": "vrB4FpB63yEF"
      },
      "source": [
        "## Setting up ArangoDB"
      ]
    },
    {
      "cell_type": "code",
      "execution_count": null,
      "metadata": {
        "id": "IDCtRAyy30Ek"
      },
      "outputs": [],
      "source": [
        "%%capture\n",
        "!pip install adb-cloud-connector\n",
        "\n",
        "# Source: https://github.com/arangodb/adb-cloud-connector"
      ]
    },
    {
      "cell_type": "code",
      "execution_count": null,
      "metadata": {
        "id": "368O33d238EL"
      },
      "outputs": [],
      "source": [
        "import os\n",
        "import json\n",
        "\n",
        "from adb_cloud_connector import get_temp_credentials\n",
        "\n",
        "con = get_temp_credentials()\n",
        "\n",
        "os.environ[\"DATABASE_HOST\"] = con[\"url\"]\n",
        "os.environ[\"DATABASE_USERNAME\"] = con[\"username\"]\n",
        "os.environ[\"DATABASE_PASSWORD\"] = con[\"password\"]\n",
        "os.environ[\"DATABASE_NAME\"] = con[\"dbName\"]\n",
        "\n",
        "# Feel free to check out your temporary database!\n",
        "print(json.dumps(con, indent=4))"
      ]
    },
    {
      "cell_type": "markdown",
      "metadata": {
        "id": "5fsZEyyh3F87"
      },
      "source": [
        "## Starter (CPU Example)"
      ]
    },
    {
      "cell_type": "markdown",
      "metadata": {
        "id": "p3q0pZJO62Ba"
      },
      "source": [
        "Hello World for `nx-arangodb`\n",
        "\n",
        "Steps breakdown:\n",
        "\n",
        "1. Using the Environment Variables established above, instantiate an `nxadb.Graph` that is able to connect to our ArangoDB database. In order to create an ArangoDB Graph, the `name` parameter is **required**.\n",
        "\n",
        "2. Add two nodes, which will be stored in the `node` ArangoDB Vertex Collection, with IDs `node/1` and `node/2`.\n",
        "\n",
        "3. Add an edge, which will be stored in the `node_to_node` ArangoDB Edge Collection, with an arbitrary ID.\n",
        "\n",
        "4. Re-instantiate the `nxadb` Graph. Given that the data is persisted in ArangoDB, we can pick up right where we left off.\n",
        "\n",
        "5. Run an algorithm on the graph, which will pull the data from ArangoDB.\n",
        "\n",
        "6. Iterate over the pagerank values to store the results back on each node.\n",
        "\n",
        "7. Clear the *local* cache of the graph.\n",
        "\n",
        "8. Fetch the node & edge data in ArangoDB\n",
        "\n",
        "9. Experiment with different ways of fetching a node by key."
      ]
    },
    {
      "cell_type": "code",
      "execution_count": null,
      "metadata": {
        "id": "dfx5vaqx2bWl"
      },
      "outputs": [],
      "source": [
        "# 1. Create the Graph\n",
        "\n",
        "import networkx as nx\n",
        "import nx_arangodb as nxadb\n",
        "\n",
        "G = nxadb.Graph(name=\"MyGraph\", default_node_type=\"node\")"
      ]
    },
    {
      "cell_type": "code",
      "execution_count": null,
      "metadata": {
        "id": "SnGqBwYO49Kq"
      },
      "outputs": [],
      "source": [
        "# 2. Add two nodes\n",
        "\n",
        "G.add_node(1, foo='bar')\n",
        "G.add_node(2, bar='foo')"
      ]
    },
    {
      "cell_type": "code",
      "execution_count": null,
      "metadata": {
        "id": "eUJP7rNZ5Gqd"
      },
      "outputs": [],
      "source": [
        "# 3. Add an edge\n",
        "\n",
        "G.add_edge(1, 2, weight=2)"
      ]
    },
    {
      "cell_type": "code",
      "execution_count": null,
      "metadata": {
        "id": "O3ThlpALI5G9"
      },
      "outputs": [],
      "source": [
        "# 4. Re-instantiate the Graph\n",
        "\n",
        "G = nxadb.Graph(name=\"MyGraph\")\n",
        "\n",
        "print(G)"
      ]
    },
    {
      "cell_type": "code",
      "execution_count": null,
      "metadata": {
        "id": "5F_vE8Bo5HSW"
      },
      "outputs": [],
      "source": [
        "# 5. Run an algorithm (CPU)\n",
        "nx.config.backends.arangodb.use_gpu = False # Optional\n",
        "\n",
        "res = nx.pagerank(G)"
      ]
    },
    {
      "cell_type": "code",
      "execution_count": null,
      "metadata": {
        "id": "GScGo5Xn5Y1s"
      },
      "outputs": [],
      "source": [
        "# 6. Persist the results\n",
        "\n",
        "for k, v in res.items():\n",
        "  G.nodes[k]['pagerank'] = v"
      ]
    },
    {
      "cell_type": "code",
      "execution_count": null,
      "metadata": {
        "id": "gAou4JwtI8Z3"
      },
      "outputs": [],
      "source": [
        "# 7. Clear the local cache\n",
        "\n",
        "G.clear()"
      ]
    },
    {
      "cell_type": "code",
      "execution_count": null,
      "metadata": {
        "id": "3hTO5lVg5h_S"
      },
      "outputs": [],
      "source": [
        "# 8. Observe the persisted results\n",
        "\n",
        "print(G[1])\n",
        "print(G[2])\n",
        "print(G[1][2])"
      ]
    },
    {
      "cell_type": "code",
      "execution_count": null,
      "metadata": {
        "id": "bL_fwOpt5zzA"
      },
      "outputs": [],
      "source": [
        "# 9. Experiment with different node keys\n",
        "\n",
        "print(G.nodes[1] == G.nodes[\"1\"] == G.nodes[\"node/1\"])\n",
        "print(G[1][2] == G[\"1\"][2] == G[\"node/1\"][2])"
      ]
    },
    {
      "cell_type": "markdown",
      "metadata": {
        "id": "VE6lCtDb6KGw"
      },
      "source": [
        "## Starter (GPU Example)"
      ]
    },
    {
      "cell_type": "code",
      "execution_count": null,
      "metadata": {
        "id": "jgg9PIpp6xhM"
      },
      "outputs": [],
      "source": [
        "# 1. Create the NetworkX Grid Graph\n",
        "\n",
        "G_nx = nx.grid_2d_graph(500, 500)\n",
        "\n",
        "print(G_nx)"
      ]
    },
    {
      "cell_type": "code",
      "execution_count": null,
      "metadata": {
        "id": "z7to3GoyHcrC"
      },
      "outputs": [],
      "source": [
        "# 2. Create the ArangoDB Grid Graph\n",
        "\n",
        "G = nxadb.Graph(incoming_graph_data=G_nx, name=\"Grid\")"
      ]
    },
    {
      "cell_type": "code",
      "execution_count": null,
      "metadata": {
        "id": "K4vqYD-zJBwW"
      },
      "outputs": [],
      "source": [
        "# 3. Re-instantiate the Graph\n",
        "\n",
        "G = nxadb.Graph(name=\"Grid\")"
      ]
    },
    {
      "cell_type": "code",
      "execution_count": null,
      "metadata": {
        "id": "hnYZc8daIhHR"
      },
      "outputs": [],
      "source": [
        "# 4. Run an algorithm (GPU)\n",
        "# See *Package Installation* to install nx-cugraph ^\n",
        "nx.config.backends.arangodb.use_gpu = True\n",
        "\n",
        "res = nx.pagerank(G)"
      ]
    },
    {
      "cell_type": "code",
      "execution_count": null,
      "metadata": {
        "id": "qIMJ2Z9_IyTz"
      },
      "outputs": [],
      "source": [
        "# 5. Run another algorithm (GPU, cached)\n",
        "\n",
        "res_2 = nx.hits(G)"
      ]
    }
  ],
  "metadata": {
    "accelerator": "GPU",
    "colab": {
      "collapsed_sections": [
        "L4nmLCFf3HoC",
        "hoyxgmOz3CwF",
        "vrB4FpB63yEF",
        "5fsZEyyh3F87",
        "VE6lCtDb6KGw"
      ],
      "gpuType": "T4",
      "provenance": []
    },
    "kernelspec": {
      "display_name": "Python 3",
      "name": "python3"
    },
    "language_info": {
      "name": "python"
    }
  },
  "nbformat": 4,
  "nbformat_minor": 0
}
